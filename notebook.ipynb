{
 "cells": [
  {
   "cell_type": "markdown",
   "metadata": {},
   "source": [
    "# Spotify Listening History processing"
   ]
  },
  {
   "cell_type": "markdown",
   "metadata": {},
   "source": [
    "## Install dependencies"
   ]
  },
  {
   "cell_type": "code",
   "execution_count": null,
   "metadata": {},
   "outputs": [],
   "source": [
    "%pip install pandas\n",
    "%pip install matplotlib"
   ]
  },
  {
   "cell_type": "markdown",
   "metadata": {},
   "source": [
    "## Import dependencies and read records"
   ]
  },
  {
   "cell_type": "code",
   "execution_count": null,
   "metadata": {},
   "outputs": [],
   "source": [
    "import glob, json\n",
    "import pandas as pd\n",
    "\n",
    "FILE_PATTERN = 'raw-data/Streaming_History_Audio*.json'\n",
    "all_streams = []\n",
    "for file_path in glob.glob(FILE_PATTERN):\n",
    "    with open(file_path, 'r') as file:\n",
    "        all_streams += json.loads(file.read())\n",
    "\n",
    "print(len(all_streams))"
   ]
  },
  {
   "cell_type": "markdown",
   "metadata": {},
   "source": [
    "## Create Dataframe"
   ]
  },
  {
   "cell_type": "code",
   "execution_count": 3,
   "metadata": {},
   "outputs": [],
   "source": [
    "all_streams_df = pd.DataFrame(all_streams)"
   ]
  },
  {
   "cell_type": "code",
   "execution_count": null,
   "metadata": {},
   "outputs": [],
   "source": [
    "all_streams_df.head()"
   ]
  },
  {
   "cell_type": "markdown",
   "metadata": {},
   "source": [
    "### Select columns of interest"
   ]
  },
  {
   "cell_type": "code",
   "execution_count": 4,
   "metadata": {},
   "outputs": [],
   "source": [
    "all_streams_df = all_streams_df[['ts', 'ms_played', 'master_metadata_track_name', 'master_metadata_album_artist_name', 'master_metadata_album_album_name']]"
   ]
  },
  {
   "cell_type": "markdown",
   "metadata": {},
   "source": [
    "### Rename columns"
   ]
  },
  {
   "cell_type": "code",
   "execution_count": 5,
   "metadata": {},
   "outputs": [],
   "source": [
    "all_streams_df = all_streams_df.rename(columns={\"ts\": \"timestamp\", \"master_metadata_track_name\": \"track_name\", \"master_metadata_album_artist_name\": \"artist_name\", \"master_metadata_album_album_name\": \"album_name\"})"
   ]
  },
  {
   "cell_type": "markdown",
   "metadata": {},
   "source": [
    "### Convert timestamp to date format"
   ]
  },
  {
   "cell_type": "code",
   "execution_count": 6,
   "metadata": {},
   "outputs": [],
   "source": [
    "all_streams_df['timestamp'] = pd.to_datetime(all_streams_df['timestamp'])"
   ]
  },
  {
   "cell_type": "markdown",
   "metadata": {},
   "source": [
    "### Filter by year"
   ]
  },
  {
   "cell_type": "code",
   "execution_count": null,
   "metadata": {},
   "outputs": [],
   "source": [
    "twenty_twentytwo_streams = all_streams_df.loc[all_streams_df[\"timestamp\"].dt.year == 2024]\n",
    "twenty_twentytwo_streams"
   ]
  },
  {
   "cell_type": "markdown",
   "metadata": {},
   "source": [
    "## My 5 most listened to artists in a given year for total time listened"
   ]
  },
  {
   "cell_type": "code",
   "execution_count": 39,
   "metadata": {},
   "outputs": [],
   "source": [
    "most_listened_artists = twenty_twentytwo_streams.groupby([\"artist_name\"])['ms_played'].agg(\"sum\").reset_index().sort_values(by=[\"ms_played\"], ascending=False)\n",
    "top_five = most_listened_artists.iloc[:5]"
   ]
  },
  {
   "cell_type": "markdown",
   "metadata": {},
   "source": [
    "### Draw chart of time spent on 5 top artists and rest"
   ]
  },
  {
   "cell_type": "code",
   "execution_count": null,
   "metadata": {},
   "outputs": [],
   "source": [
    "rest_of_artists = pd.DataFrame({\n",
    "    'artist_name': ['Others'],\n",
    "    'ms_played': [most_listened_artists.iloc[5:]['ms_played'].sum()]\n",
    "})\n",
    "\n",
    "result = pd.concat([top_five, rest_of_artists], ignore_index=True)\n",
    "result = result.set_index(result['artist_name'])\n",
    "colors = [\"#6AF70C\", \"#787442\", \"#577842\", \"#644278\", \"#A10CF7\", \"#F7E70C\"]\n",
    "result.plot.pie(y=\"ms_played\", title=\"Top 5 artists per time listened\", figsize=(7,7), autopct='%1.0f%%', colors=colors)"
   ]
  },
  {
   "cell_type": "markdown",
   "metadata": {},
   "source": [
    "### Get top 5 songs of top 5 artists"
   ]
  },
  {
   "cell_type": "code",
   "execution_count": null,
   "metadata": {},
   "outputs": [],
   "source": [
    "top_five_artists_series = top_five['artist_name']\n",
    "\n",
    "top_songs_df = pd.DataFrame()\n",
    "for i,artist in top_five_artists_series.items():\n",
    "    songs_by_top_artist = twenty_twentytwo_streams[twenty_twentytwo_streams['artist_name'] == artist]\n",
    "    top_songs = songs_by_top_artist.groupby([\"track_name\"])['ms_played'].agg(\"sum\").reset_index().sort_values(by=[\"ms_played\"], ascending=False).iloc[:5]\n",
    "    top_songs['hours_played'] = top_songs['ms_played']/ (1000*60*60)\n",
    "    top_songs['artist_name'] = artist\n",
    "    top_songs = top_songs[['artist_name', 'track_name', 'hours_played']]\n",
    "    top_songs_df = pd.concat([top_songs_df, top_songs])\n",
    "\n",
    "display(top_songs_df)"
   ]
  },
  {
   "cell_type": "markdown",
   "metadata": {},
   "source": [
    "### Get day of week average listen time"
   ]
  },
  {
   "cell_type": "code",
   "execution_count": null,
   "metadata": {},
   "outputs": [],
   "source": [
    "all_streams_df['day_of_week'] = all_streams_df['timestamp'].dt.day_of_week\n",
    "all_streams_df['week_of_year'] = all_streams_df['timestamp'].dt.isocalendar().week\n",
    "all_streams_df['year'] = all_streams_df['timestamp'].dt.year\n",
    "daily_sum = all_streams_df.groupby([\"day_of_week\", \"week_of_year\", \"year\"])['ms_played'].agg(\"sum\").reset_index()\n",
    "daily_avg = daily_sum.groupby(['day_of_week', 'year'])['ms_played'].agg('mean').reset_index()\n",
    "daily_avg['hours_played'] = daily_avg['ms_played']/(1000*60*60)\n",
    "daily_avg.sort_values(by=[\"hours_played\"], ascending=False)"
   ]
  },
  {
   "cell_type": "code",
   "execution_count": null,
   "metadata": {},
   "outputs": [],
   "source": []
  }
 ],
 "metadata": {
  "kernelspec": {
   "display_name": "Python 3",
   "language": "python",
   "name": "python3"
  },
  "language_info": {
   "codemirror_mode": {
    "name": "ipython",
    "version": 3
   },
   "file_extension": ".py",
   "mimetype": "text/x-python",
   "name": "python",
   "nbconvert_exporter": "python",
   "pygments_lexer": "ipython3",
   "version": "3.11.10"
  }
 },
 "nbformat": 4,
 "nbformat_minor": 2
}
